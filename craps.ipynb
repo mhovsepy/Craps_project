{
 "cells": [
  {
   "cell_type": "code",
   "execution_count": 10,
   "metadata": {},
   "outputs": [
    {
     "name": "stdout",
     "output_type": "stream",
     "text": [
      "The sum of dice is 2 + 5 = 7\n",
      "You won\n"
     ]
    }
   ],
   "source": [
    "import random\n",
    "a = random.randint(1,6)\n",
    "b = random.randint(1,6)\n",
    "sum_numbers = a + b\n",
    "i = 3\n",
    "print(\"The sum of dice is\", a, \"+\", b, \"=\", sum_numbers)\n",
    "if sum_numbers == 7 or sum_numbers == 11:\n",
    "        print(\"You won\")\n",
    "elif sum_numbers == 2 or sum_numbers == 3 or sum_numbers == 12:\n",
    "        print('Casino win')\n",
    "else:\n",
    "        print(\"Your goal number is\",  sum_numbers)\n",
    "        while i != 0:\n",
    "            d = random.randint(1,6)\n",
    "            c = random.randint(1,6)\n",
    "            sum_goals = d + c\n",
    "            print(\"The sum of dice is\", d, \"+\", c, \"=\", sum_goals)\n",
    "            if sum_goals == 7:\n",
    "                break\n",
    "            elif sum_goals == sum_numbers:\n",
    "                print(\"You won\")\n",
    "                raise SystemExit\n",
    "            i -= 1\n",
    "        print('You lose')"
   ]
  },
  {
   "cell_type": "code",
   "execution_count": null,
   "metadata": {},
   "outputs": [],
   "source": []
  },
  {
   "cell_type": "code",
   "execution_count": null,
   "metadata": {},
   "outputs": [],
   "source": []
  },
  {
   "cell_type": "code",
   "execution_count": null,
   "metadata": {},
   "outputs": [],
   "source": []
  },
  {
   "cell_type": "code",
   "execution_count": null,
   "metadata": {},
   "outputs": [],
   "source": []
  }
 ],
 "metadata": {
  "kernelspec": {
   "display_name": "Python 3.8.8 ('base')",
   "language": "python",
   "name": "python3"
  },
  "language_info": {
   "codemirror_mode": {
    "name": "ipython",
    "version": 3
   },
   "file_extension": ".py",
   "mimetype": "text/x-python",
   "name": "python",
   "nbconvert_exporter": "python",
   "pygments_lexer": "ipython3",
   "version": "3.8.8"
  },
  "orig_nbformat": 4,
  "vscode": {
   "interpreter": {
    "hash": "40d3a090f54c6569ab1632332b64b2c03c39dcf918b08424e98f38b5ae0af88f"
   }
  }
 },
 "nbformat": 4,
 "nbformat_minor": 2
}
